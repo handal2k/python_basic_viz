{
 "cells": [
  {
   "cell_type": "code",
   "execution_count": 1,
   "id": "248ce2a4",
   "metadata": {},
   "outputs": [],
   "source": [
    "import pandas as pd"
   ]
  },
  {
   "cell_type": "code",
   "execution_count": 2,
   "id": "01a34c82",
   "metadata": {},
   "outputs": [
    {
     "data": {
      "text/html": [
       "<div>\n",
       "<style scoped>\n",
       "    .dataframe tbody tr th:only-of-type {\n",
       "        vertical-align: middle;\n",
       "    }\n",
       "\n",
       "    .dataframe tbody tr th {\n",
       "        vertical-align: top;\n",
       "    }\n",
       "\n",
       "    .dataframe thead th {\n",
       "        text-align: right;\n",
       "    }\n",
       "</style>\n",
       "<table border=\"1\" class=\"dataframe\">\n",
       "  <thead>\n",
       "    <tr style=\"text-align: right;\">\n",
       "      <th></th>\n",
       "      <th>Name</th>\n",
       "      <th>Total chances created</th>\n",
       "      <th>Chances created per 90'</th>\n",
       "    </tr>\n",
       "  </thead>\n",
       "  <tbody>\n",
       "    <tr>\n",
       "      <th>0</th>\n",
       "      <td>Federico Valverde</td>\n",
       "      <td>15</td>\n",
       "      <td>3.2</td>\n",
       "    </tr>\n",
       "    <tr>\n",
       "      <th>1</th>\n",
       "      <td>Lionel Messi</td>\n",
       "      <td>15</td>\n",
       "      <td>3.1</td>\n",
       "    </tr>\n",
       "    <tr>\n",
       "      <th>2</th>\n",
       "      <td>Neymar</td>\n",
       "      <td>15</td>\n",
       "      <td>3.0</td>\n",
       "    </tr>\n",
       "    <tr>\n",
       "      <th>3</th>\n",
       "      <td>Piotr Zielinski</td>\n",
       "      <td>14</td>\n",
       "      <td>4.1</td>\n",
       "    </tr>\n",
       "    <tr>\n",
       "      <th>4</th>\n",
       "      <td>Jack Grealish</td>\n",
       "      <td>13</td>\n",
       "      <td>3.4</td>\n",
       "    </tr>\n",
       "    <tr>\n",
       "      <th>5</th>\n",
       "      <td>Amine Harit</td>\n",
       "      <td>13</td>\n",
       "      <td>3.1</td>\n",
       "    </tr>\n",
       "    <tr>\n",
       "      <th>6</th>\n",
       "      <td>Mehdi Taremi</td>\n",
       "      <td>13</td>\n",
       "      <td>2.7</td>\n",
       "    </tr>\n",
       "    <tr>\n",
       "      <th>7</th>\n",
       "      <td>Otávio</td>\n",
       "      <td>13</td>\n",
       "      <td>2.6</td>\n",
       "    </tr>\n",
       "    <tr>\n",
       "      <th>8</th>\n",
       "      <td>Riyad Mahrez</td>\n",
       "      <td>12</td>\n",
       "      <td>2.9</td>\n",
       "    </tr>\n",
       "    <tr>\n",
       "      <th>9</th>\n",
       "      <td>Filip Kostic</td>\n",
       "      <td>12</td>\n",
       "      <td>2.5</td>\n",
       "    </tr>\n",
       "    <tr>\n",
       "      <th>10</th>\n",
       "      <td>Toni Kroos</td>\n",
       "      <td>12</td>\n",
       "      <td>2.4</td>\n",
       "    </tr>\n",
       "    <tr>\n",
       "      <th>11</th>\n",
       "      <td>Diogo Jota</td>\n",
       "      <td>11</td>\n",
       "      <td>5.5</td>\n",
       "    </tr>\n",
       "    <tr>\n",
       "      <th>12</th>\n",
       "      <td>Konstantinos Tsimikas</td>\n",
       "      <td>11</td>\n",
       "      <td>2.9</td>\n",
       "    </tr>\n",
       "    <tr>\n",
       "      <th>13</th>\n",
       "      <td>Mason Mount</td>\n",
       "      <td>11</td>\n",
       "      <td>2.5</td>\n",
       "    </tr>\n",
       "    <tr>\n",
       "      <th>14</th>\n",
       "      <td>Ousmane Dembélé</td>\n",
       "      <td>11</td>\n",
       "      <td>2.4</td>\n",
       "    </tr>\n",
       "  </tbody>\n",
       "</table>\n",
       "</div>"
      ],
      "text/plain": [
       "                     Name  Total chances created  Chances created per 90'\n",
       "0       Federico Valverde                     15                      3.2\n",
       "1            Lionel Messi                     15                      3.1\n",
       "2                  Neymar                     15                      3.0\n",
       "3         Piotr Zielinski                     14                      4.1\n",
       "4           Jack Grealish                     13                      3.4\n",
       "5             Amine Harit                     13                      3.1\n",
       "6            Mehdi Taremi                     13                      2.7\n",
       "7                  Otávio                     13                      2.6\n",
       "8            Riyad Mahrez                     12                      2.9\n",
       "9            Filip Kostic                     12                      2.5\n",
       "10             Toni Kroos                     12                      2.4\n",
       "11             Diogo Jota                     11                      5.5\n",
       "12  Konstantinos Tsimikas                     11                      2.9\n",
       "13            Mason Mount                     11                      2.5\n",
       "14        Ousmane Dembélé                     11                      2.4"
      ]
     },
     "execution_count": 2,
     "metadata": {},
     "output_type": "execute_result"
    }
   ],
   "source": [
    "df = pd.read_excel(r\"C:\\Users\\kukis\\Downloads\\Py_Tryout\\Football_data\\UCL 2022-2023 Group Stage - Chances Created Player Stats.xlsx\")\n",
    "\n",
    "df"
   ]
  },
  {
   "cell_type": "code",
   "execution_count": 12,
   "id": "a3cc7711",
   "metadata": {},
   "outputs": [
    {
     "data": {
      "text/plain": [
       "Renderers configuration\n",
       "-----------------------\n",
       "    Default renderer: 'plotly_mimetype+notebook'\n",
       "    Available renderers:\n",
       "        ['plotly_mimetype', 'jupyterlab', 'nteract', 'vscode',\n",
       "         'notebook', 'notebook_connected', 'kaggle', 'azure', 'colab',\n",
       "         'cocalc', 'databricks', 'json', 'png', 'jpeg', 'jpg', 'svg',\n",
       "         'pdf', 'browser', 'firefox', 'chrome', 'chromium', 'iframe',\n",
       "         'iframe_connected', 'sphinx_gallery', 'sphinx_gallery_png']"
      ]
     },
     "execution_count": 12,
     "metadata": {},
     "output_type": "execute_result"
    }
   ],
   "source": [
    "import plotly\n",
    "import plotly.express as px\n",
    "import numpy as np\n",
    "import matplotlib.pyplot as plt\n",
    "import plotly.io as pio\n",
    "\n",
    "pio.renderers"
   ]
  },
  {
   "cell_type": "code",
   "execution_count": 13,
   "id": "f058fea3",
   "metadata": {},
   "outputs": [
    {
     "data": {
      "image/svg+xml": [
       "<svg class=\"main-svg\" xmlns=\"http://www.w3.org/2000/svg\" xmlns:xlink=\"http://www.w3.org/1999/xlink\" width=\"1000\" height=\"600\" style=\"\" viewBox=\"0 0 1000 600\"><rect x=\"0\" y=\"0\" width=\"1000\" height=\"600\" style=\"fill: rgb(17, 17, 17); fill-opacity: 1;\"/><defs id=\"defs-16bc40\"><g class=\"clips\"><clipPath id=\"clip16bc40xyplot\" class=\"plotclip\"><rect width=\"721\" height=\"381\"/></clipPath><clipPath class=\"axesclip\" id=\"clip16bc40x\"><rect x=\"80\" y=\"0\" width=\"721\" height=\"600\"/></clipPath><clipPath class=\"axesclip\" id=\"clip16bc40y\"><rect x=\"0\" y=\"100\" width=\"1000\" height=\"381\"/></clipPath><clipPath class=\"axesclip\" id=\"clip16bc40xy\"><rect x=\"80\" y=\"100\" width=\"721\" height=\"381\"/></clipPath></g><g class=\"gradients\"><linearGradient x1=\"0\" x2=\"0\" y1=\"1\" y2=\"0\" id=\"g16bc40-cbcoloraxis\"><stop offset=\"0%\" stop-color=\"rgb(13, 8, 135)\" stop-opacity=\"1\"/><stop offset=\"11.111111%\" stop-color=\"rgb(70, 3, 159)\" stop-opacity=\"1\"/><stop offset=\"22.222222%\" stop-color=\"rgb(114, 1, 168)\" stop-opacity=\"1\"/><stop offset=\"33.333333%\" stop-color=\"rgb(156, 23, 158)\" stop-opacity=\"1\"/><stop offset=\"44.444444%\" stop-color=\"rgb(189, 55, 134)\" stop-opacity=\"1\"/><stop offset=\"55.555556%\" stop-color=\"rgb(216, 87, 107)\" stop-opacity=\"1\"/><stop offset=\"66.666667%\" stop-color=\"rgb(237, 121, 83)\" stop-opacity=\"1\"/><stop offset=\"77.777778%\" stop-color=\"rgb(251, 159, 58)\" stop-opacity=\"1\"/><stop offset=\"88.888889%\" stop-color=\"rgb(253, 202, 38)\" stop-opacity=\"1\"/><stop offset=\"100%\" stop-color=\"rgb(240, 249, 33)\" stop-opacity=\"1\"/></linearGradient></g><g class=\"patterns\"/></defs><g class=\"bglayer\"/><g class=\"layer-below\"><g class=\"imagelayer\"/><g class=\"shapelayer\"/></g><g class=\"cartesianlayer\"><g class=\"subplot xy\"><g class=\"layer-subplot\"><g class=\"shapelayer\"/><g class=\"imagelayer\"/></g><g class=\"minor-gridlayer\"><g class=\"x\"/><g class=\"y\"/></g><g class=\"gridlayer\"><g class=\"x\"><path class=\"xgrid crisp\" transform=\"translate(128.11,0)\" d=\"M0,100v381\" style=\"stroke: rgb(40, 52, 66); stroke-opacity: 1; stroke-width: 1px;\"/><path class=\"xgrid crisp\" transform=\"translate(172.85,0)\" d=\"M0,100v381\" style=\"stroke: rgb(40, 52, 66); stroke-opacity: 1; stroke-width: 1px;\"/><path class=\"xgrid crisp\" transform=\"translate(217.6,0)\" d=\"M0,100v381\" style=\"stroke: rgb(40, 52, 66); stroke-opacity: 1; stroke-width: 1px;\"/><path class=\"xgrid crisp\" transform=\"translate(262.34000000000003,0)\" d=\"M0,100v381\" style=\"stroke: rgb(40, 52, 66); stroke-opacity: 1; stroke-width: 1px;\"/><path class=\"xgrid crisp\" transform=\"translate(307.08000000000004,0)\" d=\"M0,100v381\" style=\"stroke: rgb(40, 52, 66); stroke-opacity: 1; stroke-width: 1px;\"/><path class=\"xgrid crisp\" transform=\"translate(351.82,0)\" d=\"M0,100v381\" style=\"stroke: rgb(40, 52, 66); stroke-opacity: 1; stroke-width: 1px;\"/><path class=\"xgrid crisp\" transform=\"translate(396.57,0)\" d=\"M0,100v381\" style=\"stroke: rgb(40, 52, 66); stroke-opacity: 1; stroke-width: 1px;\"/><path class=\"xgrid crisp\" transform=\"translate(441.31,0)\" d=\"M0,100v381\" style=\"stroke: rgb(40, 52, 66); stroke-opacity: 1; stroke-width: 1px;\"/><path class=\"xgrid crisp\" transform=\"translate(486.05,0)\" d=\"M0,100v381\" style=\"stroke: rgb(40, 52, 66); stroke-opacity: 1; stroke-width: 1px;\"/><path class=\"xgrid crisp\" transform=\"translate(530.79,0)\" d=\"M0,100v381\" style=\"stroke: rgb(40, 52, 66); stroke-opacity: 1; stroke-width: 1px;\"/><path class=\"xgrid crisp\" transform=\"translate(575.54,0)\" d=\"M0,100v381\" style=\"stroke: rgb(40, 52, 66); stroke-opacity: 1; stroke-width: 1px;\"/><path class=\"xgrid crisp\" transform=\"translate(620.28,0)\" d=\"M0,100v381\" style=\"stroke: rgb(40, 52, 66); stroke-opacity: 1; stroke-width: 1px;\"/><path class=\"xgrid crisp\" transform=\"translate(665.02,0)\" d=\"M0,100v381\" style=\"stroke: rgb(40, 52, 66); stroke-opacity: 1; stroke-width: 1px;\"/><path class=\"xgrid crisp\" transform=\"translate(709.76,0)\" d=\"M0,100v381\" style=\"stroke: rgb(40, 52, 66); stroke-opacity: 1; stroke-width: 1px;\"/><path class=\"xgrid crisp\" transform=\"translate(754.51,0)\" d=\"M0,100v381\" style=\"stroke: rgb(40, 52, 66); stroke-opacity: 1; stroke-width: 1px;\"/></g><g class=\"y\"><path class=\"ygrid crisp\" transform=\"translate(0,441.29)\" d=\"M80,0h721\" style=\"stroke: rgb(40, 52, 66); stroke-opacity: 1; stroke-width: 1px;\"/><path class=\"ygrid crisp\" transform=\"translate(0,390.22)\" d=\"M80,0h721\" style=\"stroke: rgb(40, 52, 66); stroke-opacity: 1; stroke-width: 1px;\"/><path class=\"ygrid crisp\" transform=\"translate(0,339.15)\" d=\"M80,0h721\" style=\"stroke: rgb(40, 52, 66); stroke-opacity: 1; stroke-width: 1px;\"/><path class=\"ygrid crisp\" transform=\"translate(0,288.08000000000004)\" d=\"M80,0h721\" style=\"stroke: rgb(40, 52, 66); stroke-opacity: 1; stroke-width: 1px;\"/><path class=\"ygrid crisp\" transform=\"translate(0,237)\" d=\"M80,0h721\" style=\"stroke: rgb(40, 52, 66); stroke-opacity: 1; stroke-width: 1px;\"/><path class=\"ygrid crisp\" transform=\"translate(0,185.93)\" d=\"M80,0h721\" style=\"stroke: rgb(40, 52, 66); stroke-opacity: 1; stroke-width: 1px;\"/><path class=\"ygrid crisp\" transform=\"translate(0,134.86)\" d=\"M80,0h721\" style=\"stroke: rgb(40, 52, 66); stroke-opacity: 1; stroke-width: 1px;\"/></g></g><g class=\"zerolinelayer\"/><path class=\"xlines-below\"/><path class=\"ylines-below\"/><g class=\"overlines-below\"/><g class=\"xaxislayer-below\"/><g class=\"yaxislayer-below\"/><g class=\"overaxes-below\"/><g class=\"plot\" transform=\"translate(80,100)\" clip-path=\"url(#clip16bc40xyplot)\"><g class=\"scatterlayer mlayer\"><g class=\"trace scatter trace1e40c7\" style=\"stroke-miterlimit: 2; opacity: 1;\"><g class=\"fills\"/><g class=\"errorbars\"/><g class=\"lines\"/><g class=\"points\"><path class=\"point\" transform=\"translate(48.11,269.79)\" d=\"M10.79,0A10.79,10.79 0 1,1 0,-10.79A10.79,10.79 0 0,1 10.79,0Z\" style=\"opacity: 0.7; stroke-width: 1px; fill: rgb(240, 249, 33); fill-opacity: 1; stroke: rgb(40, 52, 66); stroke-opacity: 1;\"/><path class=\"point\" transform=\"translate(92.85,280.01)\" d=\"M10.62,0A10.62,10.62 0 1,1 0,-10.62A10.62,10.62 0 0,1 10.62,0Z\" style=\"opacity: 0.7; stroke-width: 1px; fill: rgb(240, 249, 33); fill-opacity: 1; stroke: rgb(40, 52, 66); stroke-opacity: 1;\"/><path class=\"point\" transform=\"translate(137.6,290.22)\" d=\"M10.44,0A10.44,10.44 0 1,1 0,-10.44A10.44,10.44 0 0,1 10.44,0Z\" style=\"opacity: 0.7; stroke-width: 1px; fill: rgb(240, 249, 33); fill-opacity: 1; stroke: rgb(40, 52, 66); stroke-opacity: 1;\"/><path class=\"point\" transform=\"translate(182.34,177.86)\" d=\"M12.21,0A12.21,12.21 0 1,1 0,-12.21A12.21,12.21 0 0,1 12.21,0Z\" style=\"opacity: 0.7; stroke-width: 1px; fill: rgb(248, 150, 64); fill-opacity: 1; stroke: rgb(40, 52, 66); stroke-opacity: 1;\"/><path class=\"point\" transform=\"translate(227.08,249.36)\" d=\"M11.12,0A11.12,11.12 0 1,1 0,-11.12A11.12,11.12 0 0,1 11.12,0Z\" style=\"opacity: 0.7; stroke-width: 1px; fill: rgb(203, 71, 121); fill-opacity: 1; stroke: rgb(40, 52, 66); stroke-opacity: 1;\"/><path class=\"point\" transform=\"translate(271.82,280.01)\" d=\"M10.62,0A10.62,10.62 0 1,1 0,-10.62A10.62,10.62 0 0,1 10.62,0Z\" style=\"opacity: 0.7; stroke-width: 1px; fill: rgb(203, 71, 121); fill-opacity: 1; stroke: rgb(40, 52, 66); stroke-opacity: 1;\"/><path class=\"point\" transform=\"translate(316.57,320.86)\" d=\"M9.91,0A9.91,9.91 0 1,1 0,-9.91A9.91,9.91 0 0,1 9.91,0Z\" style=\"opacity: 0.7; stroke-width: 1px; fill: rgb(203, 71, 121); fill-opacity: 1; stroke: rgb(40, 52, 66); stroke-opacity: 1;\"/><path class=\"point\" transform=\"translate(361.31,331.08)\" d=\"M9.72,0A9.72,9.72 0 1,1 0,-9.72A9.72,9.72 0 0,1 9.72,0Z\" style=\"opacity: 0.7; stroke-width: 1px; fill: rgb(203, 71, 121); fill-opacity: 1; stroke: rgb(40, 52, 66); stroke-opacity: 1;\"/><path class=\"point\" transform=\"translate(406.05,300.43)\" d=\"M10.27,0A10.27,10.27 0 1,1 0,-10.27A10.27,10.27 0 0,1 10.27,0Z\" style=\"opacity: 0.7; stroke-width: 1px; fill: rgb(124, 6, 166); fill-opacity: 1; stroke: rgb(40, 52, 66); stroke-opacity: 1;\"/><path class=\"point\" transform=\"translate(450.79,341.29)\" d=\"M9.53,0A9.53,9.53 0 1,1 0,-9.53A9.53,9.53 0 0,1 9.53,0Z\" style=\"opacity: 0.7; stroke-width: 1px; fill: rgb(124, 6, 166); fill-opacity: 1; stroke: rgb(40, 52, 66); stroke-opacity: 1;\"/><path class=\"point\" transform=\"translate(495.54,351.51)\" d=\"M9.34,0A9.34,9.34 0 1,1 0,-9.34A9.34,9.34 0 0,1 9.34,0Z\" style=\"opacity: 0.7; stroke-width: 1px; fill: rgb(124, 6, 166); fill-opacity: 1; stroke: rgb(40, 52, 66); stroke-opacity: 1;\"/><path class=\"point\" transform=\"translate(540.28,34.86)\" d=\"M14.14,0A14.14,14.14 0 1,1 0,-14.14A14.14,14.14 0 0,1 14.14,0Z\" style=\"opacity: 0.7; stroke-width: 1px; fill: rgb(13, 8, 135); fill-opacity: 1; stroke: rgb(40, 52, 66); stroke-opacity: 1;\"/><path class=\"point\" transform=\"translate(585.02,300.43)\" d=\"M10.27,0A10.27,10.27 0 1,1 0,-10.27A10.27,10.27 0 0,1 10.27,0Z\" style=\"opacity: 0.7; stroke-width: 1px; fill: rgb(13, 8, 135); fill-opacity: 1; stroke: rgb(40, 52, 66); stroke-opacity: 1;\"/><path class=\"point\" transform=\"translate(629.76,341.29)\" d=\"M9.53,0A9.53,9.53 0 1,1 0,-9.53A9.53,9.53 0 0,1 9.53,0Z\" style=\"opacity: 0.7; stroke-width: 1px; fill: rgb(13, 8, 135); fill-opacity: 1; stroke: rgb(40, 52, 66); stroke-opacity: 1;\"/><path class=\"point\" transform=\"translate(674.51,351.51)\" d=\"M9.34,0A9.34,9.34 0 1,1 0,-9.34A9.34,9.34 0 0,1 9.34,0Z\" style=\"opacity: 0.7; stroke-width: 1px; fill: rgb(13, 8, 135); fill-opacity: 1; stroke: rgb(40, 52, 66); stroke-opacity: 1;\"/></g><g class=\"text\"><g class=\"textpoint\" transform=\"translate(0,-16.483997249264842)\"><text x=\"48.11\" y=\"269.79\" text-anchor=\"middle\" style=\"font-family: 'Open Sans', verdana, arial, sans-serif; font-size: 8px; fill: rgb(242, 245, 250); fill-opacity: 1; white-space: pre;\">3.2</text></g><g class=\"textpoint\" transform=\"translate(0,-16.27163756423312)\"><text x=\"92.85\" y=\"280.01\" text-anchor=\"middle\" style=\"font-family: 'Open Sans', verdana, arial, sans-serif; font-size: 8px; fill: rgb(242, 245, 250); fill-opacity: 1; white-space: pre;\">3.1</text></g><g class=\"textpoint\" transform=\"translate(0,-16.055824196677335)\"><text x=\"137.6\" y=\"290.22\" text-anchor=\"middle\" style=\"font-family: 'Open Sans', verdana, arial, sans-serif; font-size: 8px; fill: rgb(242, 245, 250); fill-opacity: 1; white-space: pre;\">3</text></g><g class=\"textpoint\" transform=\"translate(0,-18.26284853670983)\"><text x=\"182.34\" y=\"177.86\" text-anchor=\"middle\" style=\"font-family: 'Open Sans', verdana, arial, sans-serif; font-size: 8px; fill: rgb(242, 245, 250); fill-opacity: 1; white-space: pre;\">4.1</text></g><g class=\"textpoint\" transform=\"translate(0,-16.898986228564233)\"><text x=\"227.08\" y=\"249.36\" text-anchor=\"middle\" style=\"font-family: 'Open Sans', verdana, arial, sans-serif; font-size: 8px; fill: rgb(242, 245, 250); fill-opacity: 1; white-space: pre;\">3.4</text></g><g class=\"textpoint\" transform=\"translate(0,-16.27163756423312)\"><text x=\"271.82\" y=\"280.01\" text-anchor=\"middle\" style=\"font-family: 'Open Sans', verdana, arial, sans-serif; font-size: 8px; fill: rgb(242, 245, 250); fill-opacity: 1; white-space: pre;\">3.1</text></g><g class=\"textpoint\" transform=\"translate(0,-15.385842357671557)\"><text x=\"316.57\" y=\"320.86\" text-anchor=\"middle\" style=\"font-family: 'Open Sans', verdana, arial, sans-serif; font-size: 8px; fill: rgb(242, 245, 250); fill-opacity: 1; white-space: pre;\">2.7</text></g><g class=\"textpoint\" transform=\"translate(0,-15.154310870109942)\"><text x=\"361.31\" y=\"331.08\" text-anchor=\"middle\" style=\"font-family: 'Open Sans', verdana, arial, sans-serif; font-size: 8px; fill: rgb(242, 245, 250); fill-opacity: 1; white-space: pre;\">2.6</text></g><g class=\"textpoint\" transform=\"translate(0,-15.836382951311762)\"><text x=\"406.05\" y=\"300.43\" text-anchor=\"middle\" style=\"font-family: 'Open Sans', verdana, arial, sans-serif; font-size: 8px; fill: rgb(242, 245, 250); fill-opacity: 1; white-space: pre;\">2.9</text></g><g class=\"textpoint\" transform=\"translate(0,-14.918282365569903)\"><text x=\"450.79\" y=\"341.29\" text-anchor=\"middle\" style=\"font-family: 'Open Sans', verdana, arial, sans-serif; font-size: 8px; fill: rgb(242, 245, 250); fill-opacity: 1; white-space: pre;\">2.5</text></g><g class=\"textpoint\" transform=\"translate(0,-14.677484162422843)\"><text x=\"495.54\" y=\"351.51\" text-anchor=\"middle\" style=\"font-family: 'Open Sans', verdana, arial, sans-serif; font-size: 8px; fill: rgb(242, 245, 250); fill-opacity: 1; white-space: pre;\">2.4</text></g><g class=\"textpoint\" transform=\"translate(0,-20.67766952966369)\"><text x=\"540.28\" y=\"34.86\" text-anchor=\"middle\" style=\"font-family: 'Open Sans', verdana, arial, sans-serif; font-size: 8px; fill: rgb(242, 245, 250); fill-opacity: 1; white-space: pre;\">5.5</text></g><g class=\"textpoint\" transform=\"translate(0,-15.836382951311762)\"><text x=\"585.02\" y=\"300.43\" text-anchor=\"middle\" style=\"font-family: 'Open Sans', verdana, arial, sans-serif; font-size: 8px; fill: rgb(242, 245, 250); fill-opacity: 1; white-space: pre;\">2.9</text></g><g class=\"textpoint\" transform=\"translate(0,-14.918282365569903)\"><text x=\"629.76\" y=\"341.29\" text-anchor=\"middle\" style=\"font-family: 'Open Sans', verdana, arial, sans-serif; font-size: 8px; fill: rgb(242, 245, 250); fill-opacity: 1; white-space: pre;\">2.5</text></g><g class=\"textpoint\" transform=\"translate(0,-14.677484162422843)\"><text x=\"674.51\" y=\"351.51\" text-anchor=\"middle\" style=\"font-family: 'Open Sans', verdana, arial, sans-serif; font-size: 8px; fill: rgb(242, 245, 250); fill-opacity: 1; white-space: pre;\">2.4</text></g></g></g></g></g><g class=\"overplot\"/><path class=\"xlines-above crisp\" d=\"M0,0\" style=\"fill: none;\"/><path class=\"ylines-above crisp\" d=\"M0,0\" style=\"fill: none;\"/><g class=\"overlines-above\"/><g class=\"xaxislayer-above\"><g class=\"xtick\"><text text-anchor=\"start\" x=\"0\" y=\"494\" transform=\"translate(128.11,0) rotate(30,0,488)\" style=\"font-family: 'Open Sans', verdana, arial, sans-serif; font-size: 12px; fill: rgb(242, 245, 250); fill-opacity: 1; white-space: pre; opacity: 1;\">Federico Valverde</text></g><g class=\"xtick\"><text text-anchor=\"start\" x=\"0\" y=\"494\" transform=\"translate(172.85,0) rotate(30,0,488)\" style=\"font-family: 'Open Sans', verdana, arial, sans-serif; font-size: 12px; fill: rgb(242, 245, 250); fill-opacity: 1; white-space: pre; opacity: 1;\">Lionel Messi</text></g><g class=\"xtick\"><text text-anchor=\"start\" x=\"0\" y=\"494\" transform=\"translate(217.6,0) rotate(30,0,488)\" style=\"font-family: 'Open Sans', verdana, arial, sans-serif; font-size: 12px; fill: rgb(242, 245, 250); fill-opacity: 1; white-space: pre; opacity: 1;\">Neymar</text></g><g class=\"xtick\"><text text-anchor=\"start\" x=\"0\" y=\"494\" transform=\"translate(262.34000000000003,0) rotate(30,0,488)\" style=\"font-family: 'Open Sans', verdana, arial, sans-serif; font-size: 12px; fill: rgb(242, 245, 250); fill-opacity: 1; white-space: pre; opacity: 1;\">Piotr Zielinski</text></g><g class=\"xtick\"><text text-anchor=\"start\" x=\"0\" y=\"494\" transform=\"translate(307.08000000000004,0) rotate(30,0,488)\" style=\"font-family: 'Open Sans', verdana, arial, sans-serif; font-size: 12px; fill: rgb(242, 245, 250); fill-opacity: 1; white-space: pre; opacity: 1;\">Jack Grealish</text></g><g class=\"xtick\"><text text-anchor=\"start\" x=\"0\" y=\"494\" transform=\"translate(351.82,0) rotate(30,0,488)\" style=\"font-family: 'Open Sans', verdana, arial, sans-serif; font-size: 12px; fill: rgb(242, 245, 250); fill-opacity: 1; white-space: pre; opacity: 1;\">Amine Harit</text></g><g class=\"xtick\"><text text-anchor=\"start\" x=\"0\" y=\"494\" transform=\"translate(396.57,0) rotate(30,0,488)\" style=\"font-family: 'Open Sans', verdana, arial, sans-serif; font-size: 12px; fill: rgb(242, 245, 250); fill-opacity: 1; white-space: pre; opacity: 1;\">Mehdi Taremi</text></g><g class=\"xtick\"><text text-anchor=\"start\" x=\"0\" y=\"494\" transform=\"translate(441.31,0) rotate(30,0,488)\" style=\"font-family: 'Open Sans', verdana, arial, sans-serif; font-size: 12px; fill: rgb(242, 245, 250); fill-opacity: 1; white-space: pre; opacity: 1;\">Otávio</text></g><g class=\"xtick\"><text text-anchor=\"start\" x=\"0\" y=\"494\" transform=\"translate(486.05,0) rotate(30,0,488)\" style=\"font-family: 'Open Sans', verdana, arial, sans-serif; font-size: 12px; fill: rgb(242, 245, 250); fill-opacity: 1; white-space: pre; opacity: 1;\">Riyad Mahrez</text></g><g class=\"xtick\"><text text-anchor=\"start\" x=\"0\" y=\"494\" transform=\"translate(530.79,0) rotate(30,0,488)\" style=\"font-family: 'Open Sans', verdana, arial, sans-serif; font-size: 12px; fill: rgb(242, 245, 250); fill-opacity: 1; white-space: pre; opacity: 1;\">Filip Kostic</text></g><g class=\"xtick\"><text text-anchor=\"start\" x=\"0\" y=\"494\" transform=\"translate(575.54,0) rotate(30,0,488)\" style=\"font-family: 'Open Sans', verdana, arial, sans-serif; font-size: 12px; fill: rgb(242, 245, 250); fill-opacity: 1; white-space: pre; opacity: 1;\">Toni Kroos</text></g><g class=\"xtick\"><text text-anchor=\"start\" x=\"0\" y=\"494\" transform=\"translate(620.28,0) rotate(30,0,488)\" style=\"font-family: 'Open Sans', verdana, arial, sans-serif; font-size: 12px; fill: rgb(242, 245, 250); fill-opacity: 1; white-space: pre; opacity: 1;\">Diogo Jota</text></g><g class=\"xtick\"><text text-anchor=\"start\" x=\"0\" y=\"494\" transform=\"translate(665.02,0) rotate(30,0,488)\" style=\"font-family: 'Open Sans', verdana, arial, sans-serif; font-size: 12px; fill: rgb(242, 245, 250); fill-opacity: 1; white-space: pre; opacity: 1;\">Konstantinos Tsimikas</text></g><g class=\"xtick\"><text text-anchor=\"start\" x=\"0\" y=\"494\" transform=\"translate(709.76,0) rotate(30,0,488)\" style=\"font-family: 'Open Sans', verdana, arial, sans-serif; font-size: 12px; fill: rgb(242, 245, 250); fill-opacity: 1; white-space: pre; opacity: 1;\">Mason Mount</text></g><g class=\"xtick\"><text text-anchor=\"start\" x=\"0\" y=\"494\" transform=\"translate(754.51,0) rotate(30,0,488)\" style=\"font-family: 'Open Sans', verdana, arial, sans-serif; font-size: 12px; fill: rgb(242, 245, 250); fill-opacity: 1; white-space: pre; opacity: 1;\">Ousmane Dembélé</text></g></g><g class=\"yaxislayer-above\"><g class=\"ytick\"><text text-anchor=\"end\" x=\"79\" y=\"4.199999999999999\" transform=\"translate(0,441.29)\" style=\"font-family: 'Open Sans', verdana, arial, sans-serif; font-size: 12px; fill: rgb(242, 245, 250); fill-opacity: 1; white-space: pre; opacity: 1;\">2.5</text></g><g class=\"ytick\"><text text-anchor=\"end\" x=\"79\" y=\"4.199999999999999\" style=\"font-family: 'Open Sans', verdana, arial, sans-serif; font-size: 12px; fill: rgb(242, 245, 250); fill-opacity: 1; white-space: pre; opacity: 1;\" transform=\"translate(0,390.22)\">3</text></g><g class=\"ytick\"><text text-anchor=\"end\" x=\"79\" y=\"4.199999999999999\" style=\"font-family: 'Open Sans', verdana, arial, sans-serif; font-size: 12px; fill: rgb(242, 245, 250); fill-opacity: 1; white-space: pre; opacity: 1;\" transform=\"translate(0,339.15)\">3.5</text></g><g class=\"ytick\"><text text-anchor=\"end\" x=\"79\" y=\"4.199999999999999\" style=\"font-family: 'Open Sans', verdana, arial, sans-serif; font-size: 12px; fill: rgb(242, 245, 250); fill-opacity: 1; white-space: pre; opacity: 1;\" transform=\"translate(0,288.08000000000004)\">4</text></g><g class=\"ytick\"><text text-anchor=\"end\" x=\"79\" y=\"4.199999999999999\" style=\"font-family: 'Open Sans', verdana, arial, sans-serif; font-size: 12px; fill: rgb(242, 245, 250); fill-opacity: 1; white-space: pre; opacity: 1;\" transform=\"translate(0,237)\">4.5</text></g><g class=\"ytick\"><text text-anchor=\"end\" x=\"79\" y=\"4.199999999999999\" style=\"font-family: 'Open Sans', verdana, arial, sans-serif; font-size: 12px; fill: rgb(242, 245, 250); fill-opacity: 1; white-space: pre; opacity: 1;\" transform=\"translate(0,185.93)\">5</text></g><g class=\"ytick\"><text text-anchor=\"end\" x=\"79\" y=\"4.199999999999999\" style=\"font-family: 'Open Sans', verdana, arial, sans-serif; font-size: 12px; fill: rgb(242, 245, 250); fill-opacity: 1; white-space: pre; opacity: 1;\" transform=\"translate(0,134.86)\">5.5</text></g></g><g class=\"overaxes-above\"/></g></g><g class=\"polarlayer\"/><g class=\"smithlayer\"/><g class=\"ternarylayer\"/><g class=\"geolayer\"/><g class=\"funnelarealayer\"/><g class=\"pielayer\"/><g class=\"iciclelayer\"/><g class=\"treemaplayer\"/><g class=\"sunburstlayer\"/><g class=\"glimages\"/><defs id=\"topdefs-16bc40\"><g class=\"clips\"/></defs><g class=\"layer-above\"><g class=\"imagelayer\"/><g class=\"shapelayer\"/></g><g class=\"infolayer\"><g class=\"cbcoloraxis colorbar\" transform=\"translate(80,100)\"><rect class=\"cbbg\" x=\"735\" y=\"0\" width=\"172.609375\" height=\"381\" style=\"fill: rgb(0, 0, 0); fill-opacity: 0; stroke: rgb(68, 68, 68); stroke-opacity: 1; stroke-width: 0;\"/><g class=\"cbfills\" transform=\"translate(0,32)\"><rect class=\"cbfill gradient_filled\" x=\"745\" y=\"0\" width=\"30\" height=\"339\" style=\"fill: url('#g16bc40-cbcoloraxis');\"/></g><g class=\"cblines\" transform=\"translate(0,32)\"/><g class=\"cbaxis crisp\" transform=\"translate(0,-100)\"><g class=\"ycbcoloraxistick\"><text text-anchor=\"start\" x=\"777.9\" y=\"4.199999999999999\" transform=\"translate(0,471)\" style=\"font-family: 'Open Sans', verdana, arial, sans-serif; font-size: 12px; fill: rgb(242, 245, 250); fill-opacity: 1; white-space: pre; opacity: 1;\">11</text></g><g class=\"ycbcoloraxistick\"><text text-anchor=\"start\" x=\"777.9\" y=\"4.199999999999999\" style=\"font-family: 'Open Sans', verdana, arial, sans-serif; font-size: 12px; fill: rgb(242, 245, 250); fill-opacity: 1; white-space: pre; opacity: 1;\" transform=\"translate(0,428.63)\">11.5</text></g><g class=\"ycbcoloraxistick\"><text text-anchor=\"start\" x=\"777.9\" y=\"4.199999999999999\" style=\"font-family: 'Open Sans', verdana, arial, sans-serif; font-size: 12px; fill: rgb(242, 245, 250); fill-opacity: 1; white-space: pre; opacity: 1;\" transform=\"translate(0,386.25)\">12</text></g><g class=\"ycbcoloraxistick\"><text text-anchor=\"start\" x=\"777.9\" y=\"4.199999999999999\" style=\"font-family: 'Open Sans', verdana, arial, sans-serif; font-size: 12px; fill: rgb(242, 245, 250); fill-opacity: 1; white-space: pre; opacity: 1;\" transform=\"translate(0,343.88)\">12.5</text></g><g class=\"ycbcoloraxistick\"><text text-anchor=\"start\" x=\"777.9\" y=\"4.199999999999999\" style=\"font-family: 'Open Sans', verdana, arial, sans-serif; font-size: 12px; fill: rgb(242, 245, 250); fill-opacity: 1; white-space: pre; opacity: 1;\" transform=\"translate(0,301.5)\">13</text></g><g class=\"ycbcoloraxistick\"><text text-anchor=\"start\" x=\"777.9\" y=\"4.199999999999999\" style=\"font-family: 'Open Sans', verdana, arial, sans-serif; font-size: 12px; fill: rgb(242, 245, 250); fill-opacity: 1; white-space: pre; opacity: 1;\" transform=\"translate(0,259.13)\">13.5</text></g><g class=\"ycbcoloraxistick\"><text text-anchor=\"start\" x=\"777.9\" y=\"4.199999999999999\" style=\"font-family: 'Open Sans', verdana, arial, sans-serif; font-size: 12px; fill: rgb(242, 245, 250); fill-opacity: 1; white-space: pre; opacity: 1;\" transform=\"translate(0,216.75)\">14</text></g><g class=\"ycbcoloraxistick\"><text text-anchor=\"start\" x=\"777.9\" y=\"4.199999999999999\" style=\"font-family: 'Open Sans', verdana, arial, sans-serif; font-size: 12px; fill: rgb(242, 245, 250); fill-opacity: 1; white-space: pre; opacity: 1;\" transform=\"translate(0,174.38)\">14.5</text></g><g class=\"ycbcoloraxistick\"><text text-anchor=\"start\" x=\"777.9\" y=\"4.199999999999999\" style=\"font-family: 'Open Sans', verdana, arial, sans-serif; font-size: 12px; fill: rgb(242, 245, 250); fill-opacity: 1; white-space: pre; opacity: 1;\" transform=\"translate(0,132)\">15</text></g></g><g class=\"cbtitleunshift\" transform=\"translate(-80,-100)\"><g class=\"cbtitle\" transform=\"\"><text class=\"ycbcoloraxistitle\" x=\"825.42\" y=\"123.5\" text-anchor=\"start\" style=\"font-family: 'Open Sans', verdana, arial, sans-serif; font-size: 14px; fill: rgb(242, 245, 250); opacity: 1; font-weight: normal; white-space: pre;\">Total chances created</text></g></g><rect class=\"cboutline\" x=\"745\" y=\"32\" width=\"30\" height=\"339\" style=\"stroke: rgb(68, 68, 68); stroke-opacity: 1; fill: none; stroke-width: 0;\"/></g><g class=\"g-gtitle\"><text class=\"gtitle\" x=\"50\" y=\"50\" text-anchor=\"start\" dy=\"0em\" style=\"font-family: 'Open Sans', verdana, arial, sans-serif; font-size: 17px; fill: rgb(242, 245, 250); opacity: 1; font-weight: normal; white-space: pre;\"><tspan style=\"font-weight:bold\"> UCL 2022-2023 Group Stage - Chances Created Player Stats <tspan style=\"font-weight:bold\"></tspan></tspan></text></g><g class=\"g-xtitle\"><text class=\"xtitle\" x=\"440.5\" y=\"587.6408203125\" text-anchor=\"middle\" style=\"font-family: 'Open Sans', verdana, arial, sans-serif; font-size: 14px; fill: rgb(242, 245, 250); opacity: 1; font-weight: normal; white-space: pre;\">Name</text></g><g class=\"g-ytitle\"><text class=\"ytitle\" transform=\"rotate(-90,34.575,290.5)\" x=\"34.575\" y=\"290.5\" text-anchor=\"middle\" style=\"font-family: 'Open Sans', verdana, arial, sans-serif; font-size: 14px; fill: rgb(242, 245, 250); opacity: 1; font-weight: normal; white-space: pre;\">Chances created per 90'</text></g></g></svg>"
      ]
     },
     "metadata": {},
     "output_type": "display_data"
    }
   ],
   "source": [
    "for template in ['plotly_dark']:\n",
    "    fig = px.scatter(df, \n",
    "               x = 'Name',\n",
    "               y = \"Chances created per 90'\", \n",
    "               color = 'Total chances created', \n",
    "               size = \"Chances created per 90'\",\n",
    "               text = \"Chances created per 90'\", height = 600, width = 1000,\n",
    "               template = 'plotly_dark', \n",
    "               title = \"<b> UCL 2022-2023 Group Stage - Chances Created Player Stats <b>\")\n",
    "    \n",
    "    \n",
    "    fig.update_traces(textfont_size=8, textposition='top center')\n",
    "    fig.show(renderer=\"svg\")"
   ]
  }
 ],
 "metadata": {
  "kernelspec": {
   "display_name": "Python 3 (ipykernel)",
   "language": "python",
   "name": "python3"
  },
  "language_info": {
   "codemirror_mode": {
    "name": "ipython",
    "version": 3
   },
   "file_extension": ".py",
   "mimetype": "text/x-python",
   "name": "python",
   "nbconvert_exporter": "python",
   "pygments_lexer": "ipython3",
   "version": "3.10.7"
  }
 },
 "nbformat": 4,
 "nbformat_minor": 5
}
